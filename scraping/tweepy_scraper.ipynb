{
 "cells": [
  {
   "attachments": {},
   "cell_type": "markdown",
   "id": "3fff1249",
   "metadata": {},
   "source": [
    "# Sentiment Analysis\n",
    "\n",
    "### Tweets Scraping\n",
    "\n",
    "In the below notebook I am starting with the task of scraping tweets related to the topic of abortion. My objective is to gather approximately 25,000 tweets that can be used for sentiment analysis.\n",
    "\n",
    "To accomplish the scraping process, I will be utilizing the tweepy package, a Python library that provides convenient access to the Twitter API. Tweepy simplifies the retrieval of tweets by providing functions to authenticate with Twitter and retrieve data based on specified search criteria.\n",
    "\n",
    "By scraping tweets on the topic of abortion, I aim to collect a diverse set of data that represents various opinions and sentiments expressed by users on social media. This data will serve as the foundation for conducting sentiment analysis, allowing me to analyze and understand the overall sentiment surrounding the abortion topic.\n",
    "\n",
    "Throughout the notebook, I will demonstrate the steps involved in utilizing the tweepy package, authenticating with the Twitter API, defining search parameters, and retrieving the desired number of tweets. Once the scraping process is complete, the gathered tweet data will be ready for further analysis and sentiment classification.\n",
    "\n",
    "Please note that during the scraping process, it is essential to adhere to the terms and conditions set by Twitter and respect the privacy and usage rights of the users whose tweets are being collected."
   ]
  },
  {
   "cell_type": "code",
   "execution_count": 3,
   "id": "09a56519",
   "metadata": {},
   "outputs": [],
   "source": [
    "import tweepy\n",
    "import pandas as pd\n",
    "import spacy"
   ]
  },
  {
   "cell_type": "code",
   "execution_count": 4,
   "id": "f14fe350",
   "metadata": {},
   "outputs": [],
   "source": [
    "%run /Users/lst/Desktop/ZUM/my_keys.ipynb"
   ]
  },
  {
   "cell_type": "code",
   "execution_count": 9,
   "id": "c1d3cf61",
   "metadata": {},
   "outputs": [
    {
     "name": "stderr",
     "output_type": "stream",
     "text": [
      "Rate limit exceeded. Sleeping for 822 seconds.\n"
     ]
    }
   ],
   "source": [
    "client = tweepy.Client(bearer_token=bearer_token, wait_on_rate_limit=True)\n",
    "\n",
    "\n",
    "query = '(legal abortion OR legalise abortion OR legalize abortion) lang:en -is:retweet'\n",
    "\n",
    "\n",
    "\n",
    "start_time = '2023-01-01T01:00:00+00:00'\n",
    "end_time= '2023-03-31T01:00:00+00:00'\n",
    "\n",
    "tweets_list = []\n",
    "\n",
    "for tweet in tweepy.Paginator(client.search_all_tweets, query=query,\n",
    "                              tweet_fields=['created_at', 'author_id', 'text'], max_results=500, start_time = start_time, end_time=end_time).flatten(limit=25000):\n",
    "                                tweets_list.append([tweet.created_at, tweet.author_id, tweet.text])\n"
   ]
  },
  {
   "cell_type": "code",
   "execution_count": 10,
   "id": "de8d339c",
   "metadata": {},
   "outputs": [
    {
     "data": {
      "text/plain": [
       "25000"
      ]
     },
     "execution_count": 10,
     "metadata": {},
     "output_type": "execute_result"
    }
   ],
   "source": [
    "len(tweets_list)"
   ]
  },
  {
   "cell_type": "code",
   "execution_count": 11,
   "id": "696d81a1",
   "metadata": {},
   "outputs": [],
   "source": [
    "tweets_df = pd.DataFrame(tweets_list, columns=[\"date\", \"author_id\", \"text\"])"
   ]
  },
  {
   "cell_type": "code",
   "execution_count": 12,
   "id": "fd87d638",
   "metadata": {},
   "outputs": [
    {
     "data": {
      "text/html": [
       "<div>\n",
       "<style scoped>\n",
       "    .dataframe tbody tr th:only-of-type {\n",
       "        vertical-align: middle;\n",
       "    }\n",
       "\n",
       "    .dataframe tbody tr th {\n",
       "        vertical-align: top;\n",
       "    }\n",
       "\n",
       "    .dataframe thead th {\n",
       "        text-align: right;\n",
       "    }\n",
       "</style>\n",
       "<table border=\"1\" class=\"dataframe\">\n",
       "  <thead>\n",
       "    <tr style=\"text-align: right;\">\n",
       "      <th></th>\n",
       "      <th>date</th>\n",
       "      <th>author_id</th>\n",
       "      <th>text</th>\n",
       "    </tr>\n",
       "  </thead>\n",
       "  <tbody>\n",
       "    <tr>\n",
       "      <th>0</th>\n",
       "      <td>2023-03-31 00:54:56+00:00</td>\n",
       "      <td>80832189</td>\n",
       "      <td>Ron DeSantis just stated he would not honor a ...</td>\n",
       "    </tr>\n",
       "    <tr>\n",
       "      <th>1</th>\n",
       "      <td>2023-03-31 00:54:50+00:00</td>\n",
       "      <td>2479303121</td>\n",
       "      <td>Abortion is completely legal and in our consti...</td>\n",
       "    </tr>\n",
       "    <tr>\n",
       "      <th>2</th>\n",
       "      <td>2023-03-31 00:52:32+00:00</td>\n",
       "      <td>1526105788728475653</td>\n",
       "      <td>@felicia_hart13 @Thisisa74798027 @kyle_macdowe...</td>\n",
       "    </tr>\n",
       "    <tr>\n",
       "      <th>3</th>\n",
       "      <td>2023-03-31 00:52:09+00:00</td>\n",
       "      <td>438628988</td>\n",
       "      <td>@sbaprolife @MichaelBennet @CNN @SenTuberville...</td>\n",
       "    </tr>\n",
       "    <tr>\n",
       "      <th>4</th>\n",
       "      <td>2023-03-31 00:51:47+00:00</td>\n",
       "      <td>1492201362154831874</td>\n",
       "      <td>@picelandy @JoeBiden Democrats that want to le...</td>\n",
       "    </tr>\n",
       "    <tr>\n",
       "      <th>...</th>\n",
       "      <td>...</td>\n",
       "      <td>...</td>\n",
       "      <td>...</td>\n",
       "    </tr>\n",
       "    <tr>\n",
       "      <th>24995</th>\n",
       "      <td>2023-02-23 02:42:35+00:00</td>\n",
       "      <td>1492272489455620097</td>\n",
       "      <td>@ClownWorld_ abortion up to 9 months shouldn’t...</td>\n",
       "    </tr>\n",
       "    <tr>\n",
       "      <th>24996</th>\n",
       "      <td>2023-02-23 02:29:15+00:00</td>\n",
       "      <td>452462161</td>\n",
       "      <td>@RochNH2014 @mikereinholz777 @GeorgeTakei SCOT...</td>\n",
       "    </tr>\n",
       "    <tr>\n",
       "      <th>24997</th>\n",
       "      <td>2023-02-23 02:27:01+00:00</td>\n",
       "      <td>1519800752549421058</td>\n",
       "      <td>@JohnBoyThinks @StudentsforLife Yes. And I wil...</td>\n",
       "    </tr>\n",
       "    <tr>\n",
       "      <th>24998</th>\n",
       "      <td>2023-02-23 02:25:21+00:00</td>\n",
       "      <td>1445411972388847622</td>\n",
       "      <td>@beccaboo8u @Darlene_McD Also, due to the inju...</td>\n",
       "    </tr>\n",
       "    <tr>\n",
       "      <th>24999</th>\n",
       "      <td>2023-02-23 02:20:52+00:00</td>\n",
       "      <td>78746288</td>\n",
       "      <td>Blue America wants to make abortion legal up u...</td>\n",
       "    </tr>\n",
       "  </tbody>\n",
       "</table>\n",
       "<p>25000 rows × 3 columns</p>\n",
       "</div>"
      ],
      "text/plain": [
       "                           date            author_id  \\\n",
       "0     2023-03-31 00:54:56+00:00             80832189   \n",
       "1     2023-03-31 00:54:50+00:00           2479303121   \n",
       "2     2023-03-31 00:52:32+00:00  1526105788728475653   \n",
       "3     2023-03-31 00:52:09+00:00            438628988   \n",
       "4     2023-03-31 00:51:47+00:00  1492201362154831874   \n",
       "...                         ...                  ...   \n",
       "24995 2023-02-23 02:42:35+00:00  1492272489455620097   \n",
       "24996 2023-02-23 02:29:15+00:00            452462161   \n",
       "24997 2023-02-23 02:27:01+00:00  1519800752549421058   \n",
       "24998 2023-02-23 02:25:21+00:00  1445411972388847622   \n",
       "24999 2023-02-23 02:20:52+00:00             78746288   \n",
       "\n",
       "                                                    text  \n",
       "0      Ron DeSantis just stated he would not honor a ...  \n",
       "1      Abortion is completely legal and in our consti...  \n",
       "2      @felicia_hart13 @Thisisa74798027 @kyle_macdowe...  \n",
       "3      @sbaprolife @MichaelBennet @CNN @SenTuberville...  \n",
       "4      @picelandy @JoeBiden Democrats that want to le...  \n",
       "...                                                  ...  \n",
       "24995  @ClownWorld_ abortion up to 9 months shouldn’t...  \n",
       "24996  @RochNH2014 @mikereinholz777 @GeorgeTakei SCOT...  \n",
       "24997  @JohnBoyThinks @StudentsforLife Yes. And I wil...  \n",
       "24998  @beccaboo8u @Darlene_McD Also, due to the inju...  \n",
       "24999  Blue America wants to make abortion legal up u...  \n",
       "\n",
       "[25000 rows x 3 columns]"
      ]
     },
     "execution_count": 12,
     "metadata": {},
     "output_type": "execute_result"
    }
   ],
   "source": [
    "tweets_df"
   ]
  },
  {
   "cell_type": "code",
   "execution_count": 13,
   "id": "d911ba51",
   "metadata": {},
   "outputs": [],
   "source": [
    "tweets_df.to_csv(\"tweets.csv\")"
   ]
  }
 ],
 "metadata": {
  "kernelspec": {
   "display_name": "Python 3 (ipykernel)",
   "language": "python",
   "name": "python3"
  },
  "language_info": {
   "codemirror_mode": {
    "name": "ipython",
    "version": 3
   },
   "file_extension": ".py",
   "mimetype": "text/x-python",
   "name": "python",
   "nbconvert_exporter": "python",
   "pygments_lexer": "ipython3",
   "version": "3.9.13"
  }
 },
 "nbformat": 4,
 "nbformat_minor": 5
}
